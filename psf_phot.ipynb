{
 "cells": [
  {
   "cell_type": "code",
   "execution_count": 1,
   "metadata": {},
   "outputs": [],
   "source": [
    "# Import modules\n",
    "import os,glob\n",
    "import matplotlib\n",
    "# For interactive jupyter lab notebook plots:\n",
    "%matplotlib ipympl\n",
    "# Simple inline with no plot interaction\n",
    "#%matplotlib inline\n",
    "# For exporting and standalone graphics\n",
    "#matplotlib.use('Tkagg')\n",
    "from matplotlib import pyplot as plt\n",
    "import numpy as np\n",
    "\n",
    "from astropy.io import fits\n",
    "from astropy.wcs import WCS\n",
    "\n",
    "plt.rcParams['font.family'] = 'serif'\n",
    "\n",
    "# Needed to ensure that the figure canvas is properly set. It may be messed up in a jupyter lab notebook\n",
    "def fix_canvas(current_fig):\n",
    "    if 'ipympl' in matplotlib.get_backend(): \n",
    "        current_fig.canvas.layout.width = '{:}in'.format(current_fig.get_figwidth())\n",
    "        current_fig.canvas.layout.height= '{:}in'.format(current_fig.get_figheight())"
   ]
  },
  {
   "cell_type": "code",
   "execution_count": 2,
   "metadata": {},
   "outputs": [
    {
     "name": "stdout",
     "output_type": "stream",
     "text": [
      "min=-0.04, max=293.23, EXPTIME=1000.00\n"
     ]
    },
    {
     "data": {
      "text/plain": [
       "(,\n",
       " DATE    = '2017-08-17         ' / Date FITS file was generated                  \n",
       " DATE-OBS= '2013-12-17'         / UT date of start of observation (yyyy-mm-dd)   ,\n",
       " INSTRUME= 'ACS   '             / identifier for instrument used to acquire data ,\n",
       " DETECTOR= 'WFC'                / detector in use: WFC, HRC, or SBC              ,\n",
       " SCALENSE=             0.000000 / multiplicative scale factor applied to noise   \n",
       " D001SCAL=                 0.05 / Drizzle, pixel size (arcsec) of output image   \n",
       " D002SCAL=                 0.05 / Drizzle, pixel size (arcsec) of output image   \n",
       " D003SCAL=                 0.05 / Drizzle, pixel size (arcsec) of output image   \n",
       " D004SCAL=                 0.05 / Drizzle, pixel size (arcsec) of output image   ,\n",
       " CCDGAIN =                  2.0 / commanded gain of CCD                          ,\n",
       " READNSEA=        4.3499999E+00 / calibrated read noise for amplifier A          \n",
       " READNSEB=        3.7500000E+00 / calibrated read noise for amplifier B          \n",
       " READNSEC=        4.0500002E+00 / calibrated read noise for amplifier C          \n",
       " READNSED=        5.0500002E+00 / calibrated read noise for amplifier D          ,\n",
       " SKYSUB  = '    '               / sky value subtracted (MODE or NONE)            \n",
       " SKYSUM  =                  0.0 / sky level from the sum of all constituent image,\n",
       " FILTER1 = 'CLEAR1L           ' / element selected from filter wheel 1           \n",
       " FILTER2 = 'F814W             ' / element selected from filter wheel 2           ,\n",
       " TARGNAME= 'NGC-2337                      ' / proposer's target name             \n",
       " POSTARG1=             0.000000 / POSTARG in axis 1 direction                    \n",
       " POSTARG2=             0.000000 / POSTARG in axis 2 direction                    ,\n",
       " ,\n",
       " )"
      ]
     },
     "execution_count": 2,
     "metadata": {},
     "output_type": "execute_result"
    }
   ],
   "source": [
    "# Load data image data and print some basic data\n",
    "\n",
    "# N2337\n",
    "url = 'https://hla.stsci.edu/cgi-bin/getdata.cgi?config=ops&download=1&dataset=hst_13442_95_acs_wfc_f814w&filename=hst_13442_95_acs_wfc_f814w_drz.fits'\n",
    "\n",
    "# Use the image faile name as a root name for the files to be saved\n",
    "if '/' in url: filename = url[url.rfind('/')+1:url.rfind('.fits')]\n",
    "if 'hla.stsci' in url: filename = url[url.rfind('=')+1:url.rfind('.fits')]\n",
    "\n",
    "if 'data' in locals() or 'data' in globals(): del data,data_hdr,wcs\n",
    "\n",
    "hdu = fits.open(url)\n",
    "wcs = WCS(hdu[1].header)\n",
    "data = fits.getdata(url) # hdu[0].data\n",
    "data_hdr = fits.getheader(url)\n",
    "#wcs = WCS(data_hdr)\n",
    "    \n",
    "#data = np.ma.masked_invalid(data)\n",
    "data = np.ma.masked_equal(data,-0.)\n",
    "data = np.ma.masked_invalid(data)\n",
    "\n",
    "print('min={:.2f}, max={:.2f}, EXPTIME={:.2f}\\\n",
    "'.format(data.min(),data.max(),data_hdr['EXPTIME']))\n",
    "data_hdr.get('*object*'),data_hdr.get('*date*'),data_hdr.get('*instr*'),data_hdr.get('*detect*'),\\\n",
    "data_hdr.get('*scal*'),data_hdr.get('*gai*'),data_hdr.get('*readn*'),data_hdr.get('*sky*'),\\\n",
    "data_hdr.get('*filt*'),data_hdr.get('*targ*'),data_hdr.get('*combi*'),data_hdr.get('*uni*')"
   ]
  },
  {
   "cell_type": "code",
   "execution_count": 3,
   "metadata": {},
   "outputs": [
    {
     "name": "stdin",
     "output_type": "stream",
     "text": [
      "WARNING! Divide the exptime by the number of combined frames: 1. 4.\n"
     ]
    },
    {
     "name": "stdout",
     "output_type": "stream",
     "text": [
      "min=-11.06, max=73307.45\n"
     ]
    }
   ],
   "source": [
    "# ONLY FOR ACS & WFC3 HLA products!!! Convert from electrons/sec to data counts. Execute ONCE per data read \n",
    "\n",
    "exptime = data_hdr['EXPTIME']\n",
    "\n",
    "data = data * exptime / float(input('WARNING! Divide the exptime by the number of combined frames: 1.') or 1.)\n",
    "print('min={:.2f}, max={:.2f}'.format(data.min(),data.max()))"
   ]
  },
  {
   "cell_type": "code",
   "execution_count": 4,
   "metadata": {},
   "outputs": [
    {
     "data": {
      "application/vnd.jupyter.widget-view+json": {
       "model_id": "b704a2d682d04ffd8232c33dcaef4bcb",
       "version_major": 2,
       "version_minor": 0
      },
      "text/plain": [
       "Canvas(toolbar=Toolbar(toolitems=[('Home', 'Reset original view', 'home', 'home'), ('Back', 'Back to previous …"
      ]
     },
     "metadata": {},
     "output_type": "display_data"
    },
    {
     "data": {
      "text/plain": [
       "<matplotlib.image.AxesImage at 0x1143d30b8>"
      ]
     },
     "execution_count": 4,
     "metadata": {},
     "output_type": "execute_result"
    }
   ],
   "source": [
    "# (OPTIONAL) Display the image \n",
    "\n",
    "if 'fig1' in locals() or 'fig1' in globals(): plt.close(fig1)\n",
    "fig1 = plt.figure(1,figsize=(9,9))\n",
    "# Needed to ensure that the figure canvas is properly set. It may be messed up in a jupyter lab notebook\n",
    "fix_canvas(fig1)\n",
    "\n",
    "fig1_ax1 = fig1.add_axes([.05,.05,.9,.9]) #,projection=wcs)\n",
    "\n",
    "fig1_ax1.imshow(data, origin = 'lower', vmin=0., vmax = data.mean()*2, cmap = 'Greys')"
   ]
  },
  {
   "cell_type": "code",
   "execution_count": 5,
   "metadata": {},
   "outputs": [],
   "source": [
    "# Find stars in the image\n",
    "\n",
    "from photutils.detection import DAOStarFinder\n",
    "\n",
    "dao_find = DAOStarFinder(threshold=100, fwhm=2.0, peakmax=9e4, sigma_radius=6, exclude_border=True, sharplo=0.6, sharphi=1.05, roundlo=-.1, roundhi=0.2) #, brightest=250)"
   ]
  },
  {
   "cell_type": "code",
   "execution_count": 6,
   "metadata": {},
   "outputs": [
    {
     "name": "stdout",
     "output_type": "stream",
     "text": [
      "Found 844 stars\n"
     ]
    }
   ],
   "source": [
    "stars_tbl = dao_find(data)\n",
    "print('Found {:} stars'.format(len(stars_tbl['id'])))\n",
    "stars_tbl.sort('mag')"
   ]
  },
  {
   "cell_type": "code",
   "execution_count": 7,
   "metadata": {},
   "outputs": [
    {
     "data": {
      "text/plain": [
       "<TableColumns names=('id','xcentroid','ycentroid','sharpness','roundness1','roundness2','npix','sky','peak','flux','mag')>"
      ]
     },
     "execution_count": 7,
     "metadata": {},
     "output_type": "execute_result"
    }
   ],
   "source": [
    "stars_tbl.columns"
   ]
  },
  {
   "cell_type": "code",
   "execution_count": 7,
   "metadata": {},
   "outputs": [
    {
     "name": "stdout",
     "output_type": "stream",
     "text": [
      "Selected 50 stars out of 844 initially detected\n"
     ]
    },
    {
     "data": {
      "text/plain": [
       "[<matplotlib.lines.Line2D at 0x105761cc0>]"
      ]
     },
     "execution_count": 7,
     "metadata": {},
     "output_type": "execute_result"
    }
   ],
   "source": [
    "# Visualize in the above plot (in interactive only) the preselected stars\n",
    "\n",
    "# Explicitly exclude stars that are too close to the image boundaries, because they cannot be extracted.\n",
    "\n",
    "size = 25\n",
    "hsize = (size - 1) / 2\n",
    "x = stars_tbl['xcentroid']  \n",
    "y = stars_tbl['ycentroid']  \n",
    "\n",
    "# Filter by property\n",
    "xcen=3800 ; ycen=2300\n",
    "\n",
    "round1=.15; round2=.15; sharp=0.85; mag_faint_inst = -2.0\n",
    "\n",
    "mask = ((x > hsize) & (x < (data.shape[1] -1 - hsize)) & \\\n",
    "        (y > hsize) & (y < (data.shape[0] -1 - hsize)) & \\\n",
    "        (np.sqrt((x-xcen)**2 + (y-ycen)**2)>=1000) & \\\n",
    "        (stars_tbl['mag']<=mag_faint_inst) & \\\n",
    "        (stars_tbl['sharpness']>=sharp) & \\\n",
    "        (abs(stars_tbl['roundness1'])<=round1) & \\\n",
    "        (abs(stars_tbl['roundness2'])<=round2))\n",
    "    \n",
    "temp_tbl = stars_tbl[mask].copy()\n",
    "\n",
    "print('Selected {:} stars out of {:} initially detected'.format(len(temp_tbl['id']),len(stars_tbl['id'])))\n",
    "\n",
    "fig1_ax1.plot(stars_tbl['xcentroid'],stars_tbl['ycentroid'],'o',alpha=0.25, color='cyan')\n",
    "fig1_ax1.plot(temp_tbl['xcentroid'],temp_tbl['ycentroid'],'o',alpha=0.25, color='red')"
   ]
  },
  {
   "cell_type": "code",
   "execution_count": 12,
   "metadata": {},
   "outputs": [
    {
     "name": "stdout",
     "output_type": "stream",
     "text": [
      "N good stars: 31\n",
      "N bad: 0\n"
     ]
    },
    {
     "data": {
      "application/vnd.jupyter.widget-view+json": {
       "model_id": "7742840da97843bca0f7cfa7561197c4",
       "version_major": 2,
       "version_minor": 0
      },
      "text/plain": [
       "Canvas(toolbar=Toolbar(toolitems=[('Home', 'Reset original view', 'home', 'home'), ('Back', 'Back to previous …"
      ]
     },
     "metadata": {},
     "output_type": "display_data"
    }
   ],
   "source": [
    "# Selecting EPSFStars, from which we’ll build our ePSF\n",
    "from astropy.stats import sigma_clipped_stats\n",
    "\n",
    "# Choose which stars to treat as good, if the sigma clipped stats of the star box are within mean_median_factor. Large factor does not exclude stars, e.g. 1e3.\n",
    "# \n",
    "mean_median_factor = 1.3 # 1e3 # \n",
    "\n",
    "i=0\n",
    "good_list_count = []\n",
    "good_list = []\n",
    "bad_list = []\n",
    "# Needed in order to locate the index of a column\n",
    "temp_tbl.add_index('id')\n",
    "\n",
    "for epsf_star in temp_tbl:\n",
    "    epsf_star_data = data[int(epsf_star['ycentroid']-12):int(epsf_star['ycentroid']+12),int(epsf_star['xcentroid']-12):int(epsf_star['xcentroid']+12)].copy()\n",
    "    mean, median, std = sigma_clipped_stats(epsf_star_data, sigma=3.0)\n",
    "    if std <= mean*mean_median_factor and std <= median*mean_median_factor:\n",
    "        #print(epsf_star.id_label, mean, median, std,epsf_star.data.min())\n",
    "        good_list_count.append(i)\n",
    "        good_list.append(int(epsf_star['id']))\n",
    "    else:\n",
    "        bad_list.append(epsf_star['id'])\n",
    "#        print(epsf_star['id'], end=', ')\n",
    "#        temp_tbl.remove_row(temp_tbl.loc[int(epsf_star['id'])].index)\n",
    "    i+=1\n",
    "print('N good stars: {:}\\nN bad: {:}'.format(len(good_list),len(bad_list)))\n",
    "\n",
    "#from astropy.visualization import simple_norm\n",
    "ncols = 10\n",
    "if round(len(good_list_count)/ncols)<=2 :\n",
    "    nrows = round(len(good_list_count)/ncols)\n",
    "else:\n",
    "    nrows = 5\n",
    "\n",
    "#nrows = 5\n",
    "if 'fig3' in globals(): plt.close(fig=fig3)\n",
    "fig3, ax = plt.subplots(nrows=nrows, ncols=ncols, squeeze=True,figsize=(12,8),sharex=True, sharey=True)\n",
    "fix_canvas(fig3)\n",
    "\n",
    "ax = ax.ravel()\n",
    "for i,epsf_star in zip(range(len(good_list_count)),range(len(temp_tbl['id']))):\n",
    "    epsf_star = temp_tbl[epsf_star]\n",
    "    epsf_star_data = data[int(epsf_star['ycentroid']-12):int(epsf_star['ycentroid']+12),int(epsf_star['xcentroid']-12):int(epsf_star['xcentroid']+12)].copy()\n",
    "    ax[i].imshow(epsf_star_data, vmin=epsf_star_data.min(), vmax=epsf_star_data.mean()*2, origin='lower', cmap='Greys') # norm=norm, \n",
    "    ax[i].text(1,1,'{:}'.format(epsf_star['id']))\n",
    "    ax[i].axis('off')\n"
   ]
  },
  {
   "cell_type": "code",
   "execution_count": 11,
   "metadata": {},
   "outputs": [],
   "source": [
    "# Manually remove bad stars from the list above and re run the plot\n",
    "# \n",
    "bad_list = [586,821,759,782,313,4,644,788,755,734,713,731,11,308,666,192,7,823,712]\n",
    "\n",
    "for star_id in bad_list:\n",
    "    temp_tbl.remove_row(temp_tbl.loc[star_id].index) \n"
   ]
  },
  {
   "cell_type": "code",
   "execution_count": 13,
   "metadata": {},
   "outputs": [
    {
     "name": "stdout",
     "output_type": "stream",
     "text": [
      "Calculating sigma clipped stats for source detection and masking\n",
      "(18.71497917175293, 19.934473037719727, 2.982595920562744)\n"
     ]
    }
   ],
   "source": [
    "# The star cutouts from which we build the ePSF must be background subtracted. \n",
    "\n",
    "from photutils import make_source_mask\n",
    "from photutils import Background2D, MedianBackground\n",
    "\n",
    "print('Calculating sigma clipped stats for source detection and masking')\n",
    "mask = make_source_mask(data, nsigma=3, npixels=3, dilate_size=11,)\n",
    "mean, median, std = sigma_clipped_stats(data, sigma=3.0, mask=mask)\n",
    "\n",
    "print((mean, median, std)) \n",
    "# Additional mask if needed\n",
    "# mask = (data == 0)"
   ]
  },
  {
   "cell_type": "code",
   "execution_count": 14,
   "metadata": {},
   "outputs": [
    {
     "name": "stdout",
     "output_type": "stream",
     "text": [
      "Calculating 2D background estimate on a smoothed and subgrided sections of the image\n"
     ]
    }
   ],
   "source": [
    "print('Calculating 2D background estimate on a smoothed and subgrided sections of the image')\n",
    "bkg = Background2D(data, (25, 25), filter_size=(3, 3)) #, mask=mask)\n",
    "\n",
    "# Applying the mask to the returned background image\n",
    "bkg_img = bkg.background * ~mask"
   ]
  },
  {
   "cell_type": "code",
   "execution_count": null,
   "metadata": {},
   "outputs": [],
   "source": [
    "# (OPTIONAL) Display the background and the residual\n",
    "\n",
    "if 'fig2' in globals() or 'fig2' in locals(): plt.close(fig2)\n",
    "fig2 = plt.figure(2,figsize=(2*6,6))\n",
    "# Needed to ensure that the figure canvas is properly set. It may be messed up in a jupyter lab notebook\n",
    "fix_canvas(fig2)\n",
    "\n",
    "fig2_ax1 = fig2.add_subplot(1,2,1) #, position=[.0,.1,.9,.9]) #,projection=wcs)\n",
    "fig2_ax2 = fig2.add_subplot(1,2,2) #, position=[.25,.1,.9,.9]) #,projection=wcs)\n",
    "\n",
    "fig2_ax1.imshow(bkg_img, origin = 'lower', vmin=0, vmax = bkg_img.max(), cmap = 'Greys')\n",
    "fig2_ax2.imshow(data - bkg_img, origin = 'lower', vmin=0, vmax = (data - bkg_img).mean()*3, cmap = 'Greys')\n",
    "\n",
    "# Overplot the preselected PSF stars\n",
    "fig2_ax2.plot(temp_tbl['xcentroid'],temp_tbl['ycentroid'],'o',alpha=0.25, color='blue')"
   ]
  },
  {
   "cell_type": "code",
   "execution_count": 15,
   "metadata": {},
   "outputs": [],
   "source": [
    "# Extracting the stars requires that the input table has column names x,y for the star's positions\n",
    "# We're also saving the ePSF stars to a file\n",
    "\n",
    "ePSF_stars_tbl = temp_tbl.copy()\n",
    "ePSF_stars_tbl.rename_columns(['xcentroid', 'ycentroid'], ['x','y'])\n",
    "ePSF_stars_tbl.write('{:}_ePSF_stars.dat'.format(filename), format='ascii', overwrite=True)"
   ]
  },
  {
   "cell_type": "code",
   "execution_count": 16,
   "metadata": {},
   "outputs": [],
   "source": [
    "# The extract_stars() function requires the input data as an NDData object. \n",
    "from astropy.nddata import NDData\n",
    "nddata = NDData(data=data-bkg_img)  \n",
    "\n",
    "# Extract the pixel cutouts of the selected stars:\n",
    "\n",
    "from photutils.psf import extract_stars\n",
    "ePSF_stars = extract_stars(nddata, ePSF_stars_tbl, size=25)\n"
   ]
  },
  {
   "cell_type": "code",
   "execution_count": 17,
   "metadata": {},
   "outputs": [
    {
     "name": "stdout",
     "output_type": "stream",
     "text": [
      "PROGRESS: iteration 3 (of max 3) [0.5 s/iter]\r"
     ]
    },
    {
     "data": {
      "text/plain": [
       "0.18662833202287957"
      ]
     },
     "execution_count": 17,
     "metadata": {},
     "output_type": "execute_result"
    }
   ],
   "source": [
    "from photutils import EPSFBuilder,EPSFFitter\n",
    "from photutils import centroids\n",
    "from astropy.modeling.fitting import SLSQPLSQFitter,SimplexLSQFitter\n",
    "\n",
    "#centroids.centroid_1dg # Calculate the centroid of a 2D array by fitting 1D Gaussians to the marginal x and y distributions of the array.\n",
    "#centroids.centroid_2dg # Calculate the centroid of a 2D array by fitting a 2D Gaussian (plus a constant) to the array.\n",
    "#centroids.centroid_com # Calculate the centroid of an n-dimensional array as its “center of mass” determined from moments.\n",
    "#centroids.centroid_epsf # Calculates centering shift of data using pixel symmetry, as described by Anderson and King (2000; PASP 112, 1360) in their ePSF-fitting algorithm.\n",
    "#centroids.centroid_sources # Calculate the centroid of sources at the defined positions.\n",
    "#centroids.fit_2dgaussian # Fit a 2D Gaussian plus a constant to a 2D image.\n",
    "#centroids.gaussian1d_moments # Estimate 1D Gaussian parameters from the moments of 1D data.\n",
    "\n",
    "new_fitter = EPSFFitter(fit_boxsize=9) #,fitter=SLSQPLSQFitter())\n",
    "\n",
    "epsf_builder = EPSFBuilder(oversampling=2, maxiters=3, recentering_maxiters=3, recentering_func=centroids.centroid_com, \\\n",
    "                           shift_val=0.01, fitter=new_fitter, progress_bar=True,smoothing_kernel='quartic')\n",
    "\n",
    "# Modify the clipping values\n",
    "epsf_builder.sigclip.maxiters=2\n",
    "epsf_builder.sigclip.sigma=5.0\n",
    "epsf_builder.sigclip.sigma_lower=2.\n",
    "epsf_builder.sigclip.sigma_upper=5.\n",
    "\n",
    "epsf, fitted_stars = epsf_builder(ePSF_stars)\n",
    "epsf.data.max()"
   ]
  },
  {
   "cell_type": "code",
   "execution_count": 18,
   "metadata": {},
   "outputs": [
    {
     "name": "stderr",
     "output_type": "stream",
     "text": [
      "WARNING: The fit may be unsuccessful; check fit_info['message'] for more information. [astropy.modeling.fitting]\n"
     ]
    }
   ],
   "source": [
    "from astropy.modeling import models, fitting\n",
    "\n",
    "epsf_x,epsf_y=np.mgrid[:np.shape(epsf.data)[0],:np.shape(epsf.data)[1]]\n",
    "\n",
    "g_init = models.Gaussian2D(amplitude=epsf.data.max(),x_mean=epsf.x_origin,y_mean=epsf.y_origin,x_stddev=1.5,y_stddev=1.5, theta=.5)\n",
    "fit_g = fitting.LevMarLSQFitter()\n",
    "g2d = fit_g(g_init, x=epsf_x, y=epsf_y, z=epsf.data)\n",
    "\n",
    "mof_init = models.Moffat2D(amplitude=epsf.data.max(),x_0=epsf.x_origin,y_0=epsf.y_origin,alpha=2.5,gamma=1.55)\n",
    "fit_mof = fitting.LevMarLSQFitter()\n",
    "mof2d = fit_mof(mof_init, x=epsf_x, y=epsf_y, z=epsf.data)\n",
    "\n",
    "# Composite\n",
    "g_m_init = models.Gaussian2D(amplitude=g2d.amplitude.value/2,x_mean=epsf.x_origin,y_mean=epsf.y_origin,x_stddev=1.5,y_stddev=1.5, theta=.5) + \\\n",
    "models.Moffat2D(amplitude=mof2d.amplitude.value/2.,x_0=epsf.x_origin,y_0=epsf.y_origin,alpha=2.5,gamma=1.55)\n",
    "\n",
    "fit_g_m = fitting.LevMarLSQFitter()\n",
    "g_m_2d = fit_g_m(g_m_init, x=epsf_x, y=epsf_y, z=epsf.data)"
   ]
  },
  {
   "cell_type": "code",
   "execution_count": 19,
   "metadata": {},
   "outputs": [
    {
     "data": {
      "application/vnd.jupyter.widget-view+json": {
       "model_id": "74dad64067bc4e47857562d952dbc467",
       "version_major": 2,
       "version_minor": 0
      },
      "text/plain": [
       "Canvas(toolbar=Toolbar(toolitems=[('Home', 'Reset original view', 'home', 'home'), ('Back', 'Back to previous …"
      ]
     },
     "metadata": {},
     "output_type": "display_data"
    },
    {
     "data": {
      "text/plain": [
       "(-0.5, 50.5, -0.5, 50.5)"
      ]
     },
     "execution_count": 19,
     "metadata": {},
     "output_type": "execute_result"
    }
   ],
   "source": [
    "# Create a mesh plot from a selected region around the target\n",
    "\n",
    "# Needed for the 3D mesh plot\n",
    "from mpl_toolkits.mplot3d import Axes3D\n",
    "\n",
    "# Create the meshgrid in x,y needed for the 3D\n",
    "ny , nx = epsf.data.shape\n",
    "x = np.arange(0,nx,1)\n",
    "y = np.arange(0,ny,1)\n",
    "xv, yv = np.meshgrid(x,y)\n",
    "\n",
    "if 'fig4' in locals() or 'fig4' in globals(): plt.close(fig4)\n",
    "fig4 = plt.figure(4,figsize=(9.8,9.8))\n",
    "\n",
    "# Needed to ensure that the figure canvas is properly set. It may be messed up in a jupyter lab notebook\n",
    "fix_canvas(fig4)\n",
    "\n",
    "#fig4_ax = fig4.add_axes([.05,.05,.9,.9])\n",
    "fig4_ax = fig4.add_subplot(2,2,1, position=[.01,.01,.5,.5])\n",
    "fig4_ax2 = fig4.add_subplot(2,2,2, projection='3d', position=[.01,.5,.5,.5])\n",
    "fig4_ax3 = fig4.add_subplot(2,2,3, projection='3d', position=[.5,.5,.5,.5])\n",
    "fig4_ax4 = fig4.add_subplot(2,2,4, position=[.5,.0,.5,.5])\n",
    "\n",
    "fig4_ax.imshow(epsf.data, origin='lower',vmin=0,vmax=epsf.data.mean()*5, cmap='Greys')\n",
    "fig4_ax.contour(epsf.data, levels=[epsf.data.mean()*1,epsf.data.mean()*3,epsf.data.mean()*10,epsf.data.mean()*20,epsf.data.mean()*50,epsf.data.max()*.95], linewidths=1.1, cmap='coolwarm')\n",
    "fig4_ax.axis('off')\n",
    "\n",
    "fig4_ax2.plot_surface(xv,yv,epsf.data, cmap='coolwarm',rcount=50,ccount=50)\n",
    "fig4_ax2.view_init(elev=30, azim=208)\n",
    "fig4_ax2.contour(xv,yv,epsf.data, zdir='z', offset=epsf.data.max()*1.2, \\\n",
    "                 levels=[epsf.data.mean()*1,epsf.data.mean()*3,epsf.data.mean()*10,epsf.data.mean()*20,epsf.data.mean()*50,epsf.data.max()*.95], \\\n",
    "                 cmap='coolwarm')\n",
    "fig4_ax2.axis('off')\n",
    "\n",
    "fig4_ax3.plot_surface(xv,yv,epsf.data-mof2d(epsf_x,epsf_y), cmap='coolwarm',rcount=50,ccount=50)\n",
    "fig4_ax3.view_init(elev=30, azim=208)\n",
    "fig4_ax3.contour(xv,yv,epsf.data-mof2d(epsf_x,epsf_y), zdir='z', offset=(epsf.data-mof2d(epsf_x,epsf_y)).min()*1.2, \\\n",
    "                 levels=[epsf.data.mean()*1,epsf.data.mean()*3,epsf.data.mean()*10,epsf.data.mean()*20,epsf.data.mean()*50,epsf.data.max()*.95], \\\n",
    "                 cmap='coolwarm')\n",
    "fig4_ax3.axis('off')\n",
    "\n",
    "#fig4_ax3.imshow(epsf.data-g2d(epsf_x,epsf_y), origin='lower',vmin=0,vmax=(epsf.data-g2d(epsf_x,epsf_y)).mean()*5, cmap='Greys',\\\n",
    "#                label='Gaussian fit: $\\sigma_x$={:.1f}, $\\sigma_y$={:.1f}'.format(g2d.x_stddev.value, g2d.y_stddev.value))\n",
    "fig4_ax4.imshow(epsf.data-mof2d(epsf_x,epsf_y), origin='lower',vmin=(epsf.data-mof2d(epsf_x,epsf_y)).mean(),vmax=(epsf.data-mof2d(epsf_x,epsf_y)).mean()*10, cmap='Greys',\\\n",
    "                label='Moffat fit: FWHM={:.1f}'.format(mof2d.fwhm))\n",
    "fig4_ax4.text(1,epsf.data.shape[0]-2,'Residual from Moffat fit: FWHM={:.1f}pix, alpha={:.1f}'.format(mof2d.fwhm,mof2d.alpha.value))\n",
    "fig4_ax4.axis('off')\n"
   ]
  },
  {
   "cell_type": "code",
   "execution_count": 20,
   "metadata": {},
   "outputs": [
    {
     "name": "stdout",
     "output_type": "stream",
     "text": [
      "Saved figure hst_13442_95_acs_wfc_f814w_drz_ePSF.pdf\n"
     ]
    },
    {
     "data": {
      "text/plain": [
       "0"
      ]
     },
     "execution_count": 20,
     "metadata": {},
     "output_type": "execute_result"
    }
   ],
   "source": [
    "# (Optional) Save the figure \n",
    "fig_file_name = '{:s}_ePSF.pdf'.format(filename)\n",
    "fig4.savefig(fig_file_name,\\\n",
    "            format='pdf',transparent=True,dpi=120,bbox_inches='tight')\n",
    "print('Saved figure {:s}'.format(fig_file_name))\n",
    "os.system('pdfcrop {:} {:}'.format(fig_file_name,fig_file_name))\n",
    "os.system('open {:}'.format(fig_file_name))"
   ]
  },
  {
   "cell_type": "code",
   "execution_count": 21,
   "metadata": {},
   "outputs": [],
   "source": [
    "# Save the ePSF as a fits file\n",
    "ePSF_file_name = '{:s}_ePSF.fits'.format(filename)\n",
    "fits.writeto(ePSF_file_name,data=epsf.data,overwrite=True)"
   ]
  },
  {
   "cell_type": "code",
   "execution_count": 22,
   "metadata": {},
   "outputs": [],
   "source": [
    "# Add information about the ePSF builder parameters used to generate the ePSF\n",
    "\n",
    "#i=0\n",
    "with fits.open(ePSF_file_name, 'update') as f:\n",
    "    for hdu in f:\n",
    "        hdu.header['Comment'] = 'ePSF for {:}'.format(filename)\n",
    "        hdu.header['Comment'] = 'epsf_builder parameters:'\n",
    "        for param in epsf_builder.__dict__:\n",
    "            line1 = str(param).strip('_,:,>,<')\n",
    "            line2 = str(epsf_builder.__dict__[param]).strip(r'],[_,:,>,<,\\n')\n",
    "#            print(line1,line2.split())\n",
    "            hdu.header['Comment']=('{:} / {:}'.format(line1,line2.split()))\n",
    "#        for star_xy in fitted_stars.center_flat:\n",
    "#            hdu.header['Star{:}'.format(i)]=('{:}'.format(str(star_xy)),'epsf_builder star')\n",
    "#            i+=1"
   ]
  },
  {
   "cell_type": "code",
   "execution_count": 23,
   "metadata": {},
   "outputs": [
    {
     "name": "stdout",
     "output_type": "stream",
     "text": [
      "SIMPLE  =                    T / conforms to FITS standard                      \n",
      "BITPIX  =                  -64 / array data type                                \n",
      "NAXIS   =                    2 / number of array dimensions                     \n",
      "NAXIS1  =                   51                                                  \n",
      "NAXIS2  =                   51                                                  \n",
      "EXTEND  =                    T                                                  \n",
      "COMMENT ePSF for hst_13442_95_acs_wfc_f814w_drz                                 \n",
      "COMMENT epsf_builder parameters:                                                \n",
      "COMMENT norm_radius / ['5.5']                                                   \n",
      "COMMENT shift_val / ['0.01']                                                    \n",
      "COMMENT oversampling / ['2', '2']                                               \n",
      "COMMENT shape / ['None']                                                        \n",
      "COMMENT recentering_func / ['function', 'centroid_com', 'at', '0x1176908c8']    \n",
      "COMMENT recentering_maxiters / ['3']                                            \n",
      "COMMENT smoothing_kernel / ['quartic']                                          \n",
      "COMMENT fitter / ['photutils.psf.epsf.EPSFFitter', 'object', 'at', '0x13ab9ed30'\n",
      "COMMENT ]                                                                       \n",
      "COMMENT maxiters / ['3']                                                        \n",
      "COMMENT progress_bar / ['True']                                                 \n",
      "COMMENT sigclip / ['SigmaClip>', 'sigma:', '5.0', 'sigma_lower:', '2.0', 'sigma_\n",
      "COMMENT upper:', '5.0', 'maxiters:', '2', 'cenfunc:', '<function', '_nanmean', '\n",
      "COMMENT at', '0x117680268>', 'stdfunc:', '<function', '_nanstd', 'at', '0x117680\n",
      "COMMENT 378']                                                                   \n",
      "COMMENT epsf / ['EPSFModel(flux=1.,', 'x_0=0.,', 'y_0=0.)>,', '<EPSFModel(flux=1\n",
      "COMMENT .,', 'x_0=0.,', 'y_0=0.)>,', '<EPSFModel(flux=1.,', 'x_0=0.,', 'y_0=0.)'\n",
      "COMMENT ]                                                                       \n"
     ]
    }
   ],
   "source": [
    "# (Optional) Have a look at the header\n",
    "\n",
    "print(repr(fits.getheader(ePSF_file_name)))"
   ]
  },
  {
   "cell_type": "code",
   "execution_count": null,
   "metadata": {},
   "outputs": [],
   "source": []
  },
  {
   "cell_type": "markdown",
   "metadata": {},
   "source": [
    "# Perform basic PSF fitting photometry on the ePSF stars"
   ]
  },
  {
   "cell_type": "code",
   "execution_count": null,
   "metadata": {},
   "outputs": [],
   "source": []
  },
  {
   "cell_type": "code",
   "execution_count": 24,
   "metadata": {},
   "outputs": [],
   "source": [
    "from photutils.psf import (IterativelySubtractedPSFPhotometry,\n",
    "                           BasicPSFPhotometry)\n",
    "from photutils import MMMBackground\n",
    "from photutils.psf import IntegratedGaussianPRF, DAOGroup\n",
    "#from photutils.detection import DAOStarFinder\n",
    "from astropy.table import Table\n",
    "from astropy.modeling.fitting import LevMarLSQFitter\n",
    "\n",
    "\n",
    "\n",
    "daogroup = DAOGroup(crit_separation=8)\n",
    "mmm_bkg = MMMBackground()\n",
    "\n",
    "fitter = LevMarLSQFitter()\n",
    "#gaussian_prf = IntegratedGaussianPRF(sigma=1.95)\n",
    "#gaussian_prf.sigma.fixed = False\n",
    "ePSF_model = epsf\n",
    "#itr_phot_obj = IterativelySubtractedPSFPhotometry(aperture_radius=5,\n",
    "#                                                  finder=dao_find,\n",
    "#                                                  group_maker=daogroup,\n",
    "#                                                  bkg_estimator=mmm_bkg,\n",
    "#                                                  psf_model=ePSF_model,\n",
    "#                                                  fitter=fitter,\n",
    "#                                                  fitshape=(11, 11),\n",
    "#                                                  niters=2)\n",
    "\n",
    "phot_obj = BasicPSFPhotometry(aperture_radius=5,\n",
    "                              finder=None,\n",
    "                              group_maker=daogroup,\n",
    "                              bkg_estimator=mmm_bkg,\n",
    "                              psf_model=ePSF_model,\n",
    "                              fitter=fitter,\n",
    "                              fitshape=(11, 11))"
   ]
  },
  {
   "cell_type": "code",
   "execution_count": 26,
   "metadata": {},
   "outputs": [],
   "source": [
    "# Performing PSF photometry on a specific list of objects from a table, requires a bit table modification.\n",
    "# It must contain sequenced stellar IDs and column names x_0,y_0\n",
    "\n",
    "# Use the ePSF_stars_tbl \n",
    "\n",
    "phot_obj_tbl = Table(ePSF_stars_tbl,copy=True,copy_indices=False)\n",
    "phot_obj_tbl.rename_columns(['x', 'y'], ['x_0','y_0'])\n",
    "\n",
    "for i in range(1,len(phot_obj_tbl['id'])+1):\n",
    "    phot_obj_tbl['id'][i-1]=i\n"
   ]
  },
  {
   "cell_type": "code",
   "execution_count": 27,
   "metadata": {},
   "outputs": [],
   "source": [
    "# BasicPSFPhotometry on the list of ePSF stars\n",
    "\n",
    "# Uncomment the lines below to use the DAOStarFinder table as an input\n",
    "#\n",
    "#phot_obj_tbl = stars_tbl.copy()\n",
    "#if 'x_0' not in phot_obj_tbl.colnames and 'y_0' not in phot_obj_tbl.colnames :\n",
    "#    phot_obj_tbl.rename_columns(['xcentroid', 'ycentroid'], ['x_0','y_0'])\n",
    "\n",
    "phot_results = phot_obj(data,init_guesses=phot_obj_tbl)"
   ]
  },
  {
   "cell_type": "code",
   "execution_count": 28,
   "metadata": {},
   "outputs": [
    {
     "data": {
      "text/plain": [
       "<TableColumns names=('id','x_0','y_0','sharpness','roundness1','roundness2','npix','sky','peak','flux','mag','flux_0','group_id','x_fit','y_fit','flux_fit','flux_unc','x_0_unc','y_0_unc')>"
      ]
     },
     "execution_count": 28,
     "metadata": {},
     "output_type": "execute_result"
    }
   ],
   "source": [
    "phot_results.columns\n",
    "#itr_phot_results.columns"
   ]
  },
  {
   "cell_type": "code",
   "execution_count": 29,
   "metadata": {},
   "outputs": [],
   "source": [
    "#phot_results.columns\n",
    "phot_results_rsd_img = phot_obj.get_residual_image()"
   ]
  },
  {
   "cell_type": "code",
   "execution_count": 30,
   "metadata": {},
   "outputs": [
    {
     "data": {
      "application/vnd.jupyter.widget-view+json": {
       "model_id": "7038278ddb9c473c966c84f559032520",
       "version_major": 2,
       "version_minor": 0
      },
      "text/plain": [
       "Canvas(toolbar=Toolbar(toolitems=[('Home', 'Reset original view', 'home', 'home'), ('Back', 'Back to previous …"
      ]
     },
     "metadata": {},
     "output_type": "display_data"
    },
    {
     "data": {
      "text/plain": [
       "[<matplotlib.lines.Line2D at 0x132a03d30>]"
      ]
     },
     "execution_count": 30,
     "metadata": {},
     "output_type": "execute_result"
    }
   ],
   "source": [
    "# Have a look at the residuals\n",
    "\n",
    "if 'fig5' in locals() or 'fig5' in globals(): plt.close(fig5)\n",
    "fig5 = plt.figure(5,figsize=(12.8,8.8))\n",
    "\n",
    "# Needed to ensure that the figure canvas is properly set. It may be messed up in a jupyter lab notebook\n",
    "fix_canvas(fig5)\n",
    "\n",
    "fig5_ax1 = fig5.add_subplot(121)\n",
    "fig5_ax2 = fig5.add_subplot(122)\n",
    "\n",
    "fig5_ax1.imshow(phot_results_rsd_img, origin='lower', cmap='Greys', vmin=phot_results_rsd_img.mean()*.05, vmax=phot_results_rsd_img.mean()*1.5)\n",
    "fig5_ax1.plot(phot_results['x_fit'],phot_results['y_fit'],'o',ms=5,color='red', alpha=.2)\n",
    "\n",
    "selection = (phot_results['x_0']==stars_tbl['xcentroid']) & (phot_results['y_0']==stars_tbl['ycentroid'])\n",
    "#selection = (phot_results['x_fitt']==ePSF_stars_tbl['x']) & (phot_results['y_fit']==ePSF_stars_tbl['y'])\n",
    "fig5_ax2.plot(phot_results['mag'],phot_results['flux_unc']/(2.5*np.log(10)*phot_results['flux']*np.log10(data_hdr['EXPTIME'])),'.')\n",
    "#fig5_ax2.imshow(itr_phot_result_rsd_img, origin='lower', cmap='Greys')\n"
   ]
  },
  {
   "cell_type": "code",
   "execution_count": null,
   "metadata": {},
   "outputs": [],
   "source": []
  }
 ],
 "metadata": {
  "kernelspec": {
   "display_name": "Python 3",
   "language": "python",
   "name": "python3"
  },
  "language_info": {
   "codemirror_mode": {
    "name": "ipython",
    "version": 3
   },
   "file_extension": ".py",
   "mimetype": "text/x-python",
   "name": "python",
   "nbconvert_exporter": "python",
   "pygments_lexer": "ipython3",
   "version": "3.6.9"
  },
  "varInspector": {
   "cols": {
    "lenName": 16,
    "lenType": 16,
    "lenVar": 40
   },
   "kernels_config": {
    "python": {
     "delete_cmd_postfix": "",
     "delete_cmd_prefix": "del ",
     "library": "var_list.py",
     "varRefreshCmd": "print(var_dic_list())"
    },
    "r": {
     "delete_cmd_postfix": ") ",
     "delete_cmd_prefix": "rm(",
     "library": "var_list.r",
     "varRefreshCmd": "cat(var_dic_list()) "
    }
   },
   "types_to_exclude": [
    "module",
    "function",
    "builtin_function_or_method",
    "instance",
    "_Feature"
   ],
   "window_display": true
  },
  "widgets": {
   "application/vnd.jupyter.widget-state+json": {
    "state": {
     "02031a9b5058472e8055ea446827f36c": {
      "model_module": "@jupyter-widgets/base",
      "model_module_version": "1.2.0",
      "model_name": "LayoutModel",
      "state": {
       "height": "8.0in",
       "width": "12.0in"
      }
     },
     "04549518f5a14939ba0ce185748b2033": {
      "model_module": "@jupyter-widgets/base",
      "model_module_version": "1.2.0",
      "model_name": "LayoutModel",
      "state": {}
     },
     "0efa484770854f97aa0ea2310e2709c6": {
      "model_module": "@jupyter-widgets/base",
      "model_module_version": "1.2.0",
      "model_name": "LayoutModel",
      "state": {
       "height": "8.0in",
       "width": "12.0in"
      }
     },
     "2f50525092934d7db717c6a7790b80fd": {
      "model_module": "@jupyter-widgets/base",
      "model_module_version": "1.2.0",
      "model_name": "LayoutModel",
      "state": {}
     },
     "389ce358562c419492b4f0a4068eb19e": {
      "model_module": "jupyter-matplotlib",
      "model_module_version": "^0.4.2",
      "model_name": "ToolbarModel",
      "state": {
       "layout": "IPY_MODEL_04549518f5a14939ba0ce185748b2033",
       "toolitems": [
        [
         "Home",
         "Reset original view",
         "home",
         "home"
        ],
        [
         "Back",
         "Back to previous view",
         "arrow-left",
         "back"
        ],
        [
         "Forward",
         "Forward to next view",
         "arrow-right",
         "forward"
        ],
        [
         "Pan",
         "Pan axes with left mouse, zoom with right",
         "arrows",
         "pan"
        ],
        [
         "Zoom",
         "Zoom to rectangle",
         "square-o",
         "zoom"
        ],
        [
         "Download",
         "Download plot",
         "floppy-o",
         "save_figure"
        ]
       ]
      }
     },
     "39c011e141b74a65b4ce9058032c318b": {
      "model_module": "@jupyter-widgets/base",
      "model_module_version": "1.2.0",
      "model_name": "LayoutModel",
      "state": {}
     },
     "4485cacbe891414ba0822f524ac64509": {
      "model_module": "jupyter-matplotlib",
      "model_module_version": "^0.4.2",
      "model_name": "ToolbarModel",
      "state": {
       "layout": "IPY_MODEL_8257b893fbb7485084c363c3d2f69fbe",
       "toolitems": [
        [
         "Home",
         "Reset original view",
         "home",
         "home"
        ],
        [
         "Back",
         "Back to previous view",
         "arrow-left",
         "back"
        ],
        [
         "Forward",
         "Forward to next view",
         "arrow-right",
         "forward"
        ],
        [
         "Pan",
         "Pan axes with left mouse, zoom with right",
         "arrows",
         "pan"
        ],
        [
         "Zoom",
         "Zoom to rectangle",
         "square-o",
         "zoom"
        ],
        [
         "Download",
         "Download plot",
         "floppy-o",
         "save_figure"
        ]
       ]
      }
     },
     "4c37213e0a414fca951a9f7d85d75d64": {
      "model_module": "@jupyter-widgets/base",
      "model_module_version": "1.2.0",
      "model_name": "LayoutModel",
      "state": {
       "height": "8.0in",
       "width": "12.0in"
      }
     },
     "52049b95ebdc4211956f20685b1ccf8e": {
      "model_module": "jupyter-matplotlib",
      "model_module_version": "^0.4.2",
      "model_name": "ToolbarModel",
      "state": {
       "layout": "IPY_MODEL_ac8b7af61ffb4984aa7bd2446b2d651a",
       "toolitems": [
        [
         "Home",
         "Reset original view",
         "home",
         "home"
        ],
        [
         "Back",
         "Back to previous view",
         "arrow-left",
         "back"
        ],
        [
         "Forward",
         "Forward to next view",
         "arrow-right",
         "forward"
        ],
        [
         "Pan",
         "Pan axes with left mouse, zoom with right",
         "arrows",
         "pan"
        ],
        [
         "Zoom",
         "Zoom to rectangle",
         "square-o",
         "zoom"
        ],
        [
         "Download",
         "Download plot",
         "floppy-o",
         "save_figure"
        ]
       ]
      }
     },
     "55e3f804ee57423cbdd874c58097bfa8": {
      "model_module": "@jupyter-widgets/base",
      "model_module_version": "1.2.0",
      "model_name": "LayoutModel",
      "state": {
       "height": "9.8in",
       "width": "9.8in"
      }
     },
     "5a9ea4abc6aa4515ad4a72243638823c": {
      "model_module": "@jupyter-widgets/base",
      "model_module_version": "1.2.0",
      "model_name": "LayoutModel",
      "state": {
       "height": "8.8in",
       "width": "12.8in"
      }
     },
     "5f523bfa5b2b42d99018522abf061eaa": {
      "model_module": "jupyter-matplotlib",
      "model_module_version": "^0.4.2",
      "model_name": "ToolbarModel",
      "state": {
       "layout": "IPY_MODEL_9658f083dc024fe4aaea60a894ab9bbc",
       "toolitems": [
        [
         "Home",
         "Reset original view",
         "home",
         "home"
        ],
        [
         "Back",
         "Back to previous view",
         "arrow-left",
         "back"
        ],
        [
         "Forward",
         "Forward to next view",
         "arrow-right",
         "forward"
        ],
        [
         "Pan",
         "Pan axes with left mouse, zoom with right",
         "arrows",
         "pan"
        ],
        [
         "Zoom",
         "Zoom to rectangle",
         "square-o",
         "zoom"
        ],
        [
         "Download",
         "Download plot",
         "floppy-o",
         "save_figure"
        ]
       ]
      }
     },
     "7038278ddb9c473c966c84f559032520": {
      "model_module": "jupyter-matplotlib",
      "model_module_version": "^0.4.2",
      "model_name": "MPLCanvasModel",
      "state": {
       "layout": "IPY_MODEL_5a9ea4abc6aa4515ad4a72243638823c",
       "toolbar": "IPY_MODEL_9439a3251e5a4ae9b58b9fa3ae049d98",
       "toolbar_position": "left"
      }
     },
     "74dad64067bc4e47857562d952dbc467": {
      "model_module": "jupyter-matplotlib",
      "model_module_version": "^0.4.2",
      "model_name": "MPLCanvasModel",
      "state": {
       "layout": "IPY_MODEL_55e3f804ee57423cbdd874c58097bfa8",
       "toolbar": "IPY_MODEL_a19c38f6c7c9454ba5b620b39b9420de",
       "toolbar_position": "left"
      }
     },
     "7742840da97843bca0f7cfa7561197c4": {
      "model_module": "jupyter-matplotlib",
      "model_module_version": "^0.4.2",
      "model_name": "MPLCanvasModel",
      "state": {
       "layout": "IPY_MODEL_8cf4ea1a4ace4bde9dcdcbb515bd4205",
       "toolbar": "IPY_MODEL_e1220ded1f554db098ef95113e20849f",
       "toolbar_position": "left"
      }
     },
     "78b867cc2172492eba09525a1bf77f6e": {
      "model_module": "@jupyter-widgets/base",
      "model_module_version": "1.2.0",
      "model_name": "LayoutModel",
      "state": {}
     },
     "8257b893fbb7485084c363c3d2f69fbe": {
      "model_module": "@jupyter-widgets/base",
      "model_module_version": "1.2.0",
      "model_name": "LayoutModel",
      "state": {}
     },
     "8cf4ea1a4ace4bde9dcdcbb515bd4205": {
      "model_module": "@jupyter-widgets/base",
      "model_module_version": "1.2.0",
      "model_name": "LayoutModel",
      "state": {
       "height": "8.0in",
       "width": "12.0in"
      }
     },
     "9439a3251e5a4ae9b58b9fa3ae049d98": {
      "model_module": "jupyter-matplotlib",
      "model_module_version": "^0.4.2",
      "model_name": "ToolbarModel",
      "state": {
       "layout": "IPY_MODEL_2f50525092934d7db717c6a7790b80fd",
       "toolitems": [
        [
         "Home",
         "Reset original view",
         "home",
         "home"
        ],
        [
         "Back",
         "Back to previous view",
         "arrow-left",
         "back"
        ],
        [
         "Forward",
         "Forward to next view",
         "arrow-right",
         "forward"
        ],
        [
         "Pan",
         "Pan axes with left mouse, zoom with right",
         "arrows",
         "pan"
        ],
        [
         "Zoom",
         "Zoom to rectangle",
         "square-o",
         "zoom"
        ],
        [
         "Download",
         "Download plot",
         "floppy-o",
         "save_figure"
        ]
       ]
      }
     },
     "9658f083dc024fe4aaea60a894ab9bbc": {
      "model_module": "@jupyter-widgets/base",
      "model_module_version": "1.2.0",
      "model_name": "LayoutModel",
      "state": {}
     },
     "a19c38f6c7c9454ba5b620b39b9420de": {
      "model_module": "jupyter-matplotlib",
      "model_module_version": "^0.4.2",
      "model_name": "ToolbarModel",
      "state": {
       "layout": "IPY_MODEL_78b867cc2172492eba09525a1bf77f6e",
       "toolitems": [
        [
         "Home",
         "Reset original view",
         "home",
         "home"
        ],
        [
         "Back",
         "Back to previous view",
         "arrow-left",
         "back"
        ],
        [
         "Forward",
         "Forward to next view",
         "arrow-right",
         "forward"
        ],
        [
         "Pan",
         "Pan axes with left mouse, zoom with right",
         "arrows",
         "pan"
        ],
        [
         "Zoom",
         "Zoom to rectangle",
         "square-o",
         "zoom"
        ],
        [
         "Download",
         "Download plot",
         "floppy-o",
         "save_figure"
        ]
       ]
      }
     },
     "a5fa1d25fcde4df9a378065e01a6f2ef": {
      "model_module": "@jupyter-widgets/base",
      "model_module_version": "1.2.0",
      "model_name": "LayoutModel",
      "state": {
       "height": "9.0in",
       "width": "9.0in"
      }
     },
     "ac8b7af61ffb4984aa7bd2446b2d651a": {
      "model_module": "@jupyter-widgets/base",
      "model_module_version": "1.2.0",
      "model_name": "LayoutModel",
      "state": {}
     },
     "b704a2d682d04ffd8232c33dcaef4bcb": {
      "model_module": "jupyter-matplotlib",
      "model_module_version": "^0.4.2",
      "model_name": "MPLCanvasModel",
      "state": {
       "layout": "IPY_MODEL_a5fa1d25fcde4df9a378065e01a6f2ef",
       "toolbar": "IPY_MODEL_389ce358562c419492b4f0a4068eb19e",
       "toolbar_position": "left"
      }
     },
     "e1220ded1f554db098ef95113e20849f": {
      "model_module": "jupyter-matplotlib",
      "model_module_version": "^0.4.2",
      "model_name": "ToolbarModel",
      "state": {
       "layout": "IPY_MODEL_39c011e141b74a65b4ce9058032c318b",
       "toolitems": [
        [
         "Home",
         "Reset original view",
         "home",
         "home"
        ],
        [
         "Back",
         "Back to previous view",
         "arrow-left",
         "back"
        ],
        [
         "Forward",
         "Forward to next view",
         "arrow-right",
         "forward"
        ],
        [
         "Pan",
         "Pan axes with left mouse, zoom with right",
         "arrows",
         "pan"
        ],
        [
         "Zoom",
         "Zoom to rectangle",
         "square-o",
         "zoom"
        ],
        [
         "Download",
         "Download plot",
         "floppy-o",
         "save_figure"
        ]
       ]
      }
     }
    },
    "version_major": 2,
    "version_minor": 0
   }
  }
 },
 "nbformat": 4,
 "nbformat_minor": 4
}
